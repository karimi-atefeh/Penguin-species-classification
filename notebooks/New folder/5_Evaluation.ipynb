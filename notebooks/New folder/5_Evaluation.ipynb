{
 "cells": [
  {
   "cell_type": "markdown",
   "id": "e71afe1b-cf17-44e5-857c-de75a9aef3c2",
   "metadata": {},
   "source": [
    "## <font color=\"orange\">**Step 5: Evaluation**</font>"
   ]
  },
  {
   "cell_type": "markdown",
   "id": "34c797aa-a882-498e-b4b2-21b739d0132a",
   "metadata": {},
   "source": [
    " ### <font color=\"green\">**5.1 Evaluation of Results**</font>\n",
    "\n",
    "#### **Purpose**:\n",
    "\n",
    "- I will check if models meet our original objectives (classifying penguin species accurately).\n",
    "- I will use accuracy, precision, recall, F1-score, and confusion matrices to compare models.\n",
    "\n",
    "\n",
    "| Model                | Accuracy | Precision | Recall | F1-score |\n",
    "|----------------------|----------|-----------|--------|----------|\n",
    "| KNN                  | 0.9855   | 0.98      | 0.99   | 0.98     |\n",
    "| Decision Tree        | 0.9855   | 0.99      | 0.99   | 0.99     |\n",
    "| **Random Forest**    | **1.00** | **1.00**  | **1.00**| **1.00**|\n",
    "| **SVM**              | **1.00** | **1.00**  | **1.00**| **1.00**|\n",
    "| **Logistic Regression**| **1.00** | **1.00** | **1.00**| **1.00**|\n",
    "\n",
    "- **Random Forest, SVM, and Logistic Regression** achieved perfect scores, clearly indicating they are very effective.\n",
    "- **Decision Tree and KNN** had minor misclassifications."
   ]
  },
  {
   "cell_type": "markdown",
   "id": "ec6276e1-bd73-48dc-a5b5-8481d3e15169",
   "metadata": {},
   "source": [
    "#### **Chosen Model: Random Forest**\n",
    "Justification:\n",
    "\n",
    "- Highest Accuracy(100%) and other metrics: Clearly classifies all species without errors.\n",
    "- Easy to determine feature importance: As it is shown in '4.4 Feature Importance Analysis', it provides straightforward feature importance, helping us understand penguin characteristics. [1]\n",
    "- Robustness: Performs reliably even with varied or biological datasets.\n",
    "While Logistic Regression and SVM also performed perfectly, Random Forest offers clear insights into which features matter most (feature importance), making it ideal for ecological and biological studies, clearly addressing our need for both accuracy and interpretability (RQ3).\n",
    "\n",
    "#### **Answering Research Questions**\n",
    "- **RQ1:** Can penguin species be accurately classified using the available features?  \n",
    "Yes, all models achieved high accuracy, confirming that species can be classified with precision.\n",
    "\n",
    "- **RQ2:** Which features provide the strongest basis for distinguishing between penguin species?  \n",
    "Feature importance and other visualization analyses showed **bill length**, **bill depth**, and **flipper length** as the most influential features.\n",
    "\n",
    "- **RQ3:** Which model achieves the best combination of accuracy and interpretability?  \n",
    "**Random Forest** was chosen for its perfect accuracy, robustness, and feature importance insights."
   ]
  },
  {
   "cell_type": "markdown",
   "id": "36251437-0b79-43bc-bd42-c8179abae07e",
   "metadata": {},
   "source": [
    " ### <font color=\"green\">**5.2: Review Process**</font>\n",
    "\n",
    "#### **What Worked Well**\n",
    "- The **CRISP-DM methodology** provided a clear structure, ensuring all key steps (data understanding, preparation, modeling) were well-defined and justified.\n",
    "- The **Random Forest** model achieved perfect accuracy, confirming it effectively classifies penguin species while providing insights through feature importance.\n",
    "- Handling missing data with **imputation** helped retain maximum information without sacrificing model performance.\n",
    "- Visualizations like **pair plots**, **box plots**, and the **confusion matrix** provided clear insights into the dataset and model behavior.\n",
    "\n",
    "#### **Conclusion**\n",
    "The project successfully achieved its objectives by classifying penguin species with high accuracy while ensuring model interpretability. The chosen **Random Forest** model balances precision, reliability, and ecological insights, making it an ideal choice.\n",
    "\n"
   ]
  },
  {
   "cell_type": "markdown",
   "id": "1b06bebe-319a-4b02-a382-d4ba8a9c3c5f",
   "metadata": {},
   "source": [
    "### <font color=\"green\">**5.3 References**</font>\n",
    "\n",
    "[1] IBM, \"What is Random Forest?\", IBM Developer, 2023. [Online]. Available: https://www.ibm.com/think/topics/random-forest. "
   ]
  },
  {
   "cell_type": "code",
   "execution_count": null,
   "id": "28130c69-667b-493a-9735-d90a4862282c",
   "metadata": {},
   "outputs": [],
   "source": []
  }
 ],
 "metadata": {
  "kernelspec": {
   "display_name": "Python 3 (ipykernel)",
   "language": "python",
   "name": "python3"
  },
  "language_info": {
   "codemirror_mode": {
    "name": "ipython",
    "version": 3
   },
   "file_extension": ".py",
   "mimetype": "text/x-python",
   "name": "python",
   "nbconvert_exporter": "python",
   "pygments_lexer": "ipython3",
   "version": "3.12.6"
  }
 },
 "nbformat": 4,
 "nbformat_minor": 5
}
